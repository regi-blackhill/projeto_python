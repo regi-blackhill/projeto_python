{
 "cells": [
  {
   "cell_type": "code",
   "execution_count": null,
   "metadata": {},
   "outputs": [],
   "source": [
    "import time\n",
    "\n",
    "print(\"Vamos testar a função time\")\n",
    "\n",
    "time.sleep(2) # espera pela quantidade de tempo em segundos para prosseguir com o programa.\n",
    "\n",
    "print(\"Fim do teste\")"
   ]
  },
  {
   "cell_type": "code",
   "execution_count": null,
   "metadata": {},
   "outputs": [],
   "source": [
    "# ATENÇÃO: será aberta uma janela popup fazendo a pergunta abaixo. Não será no terminal.\n",
    "\n",
    "import time\n",
    "\n",
    "t = int(input(\"Digite quantos segundos deseja: \"))\n",
    "\n",
    "for i in range(t):\n",
    "    time.sleep(1)\n",
    "    print(i + 1)"
   ]
  },
  {
   "cell_type": "code",
   "execution_count": null,
   "metadata": {},
   "outputs": [],
   "source": [
    "# Manipulação de strings\n",
    "# para mais exemplos visitar https://www.hashtagtreinamentos.com/string-no-python?gad_source=1&gclid=CjwKCAjww_iwBhApEiwAuG6ccJvWpHb_SSRHctp_5yv1UP6BlgtQGZMtQAOtDrUjgWIpElhZtKRK9hoCdIAQAvD_BwE\n",
    "\n",
    "texto = \"Esta é uma Frase teste.\"\n",
    "\n",
    "t = texto[2] # retorna um caracter específico\n",
    "print(t)\n",
    "\n",
    "t = texto[5:8] # retorna um intervalo de caracteres\n",
    "print(t)\n",
    "\n",
    "t = texto[10:] # fatia o trecho final a partir de um dado caracter\n",
    "print(t)\n",
    "\n",
    "t = texto[:10] # fatia o trecho inicial até um dado caracter\n",
    "print(t)\n",
    "\n",
    "t = texto.lower() # trasforma todos os caracteres em minúsculos\n",
    "print(t)\n",
    "\n",
    "t = texto.upper() # maiúsculos\n",
    "print(t)\n",
    "\n",
    "t = texto.title() # retorna a primeira letra de cada palavra como maiúscula\n",
    "print(t)\n",
    "\n",
    "t = texto.capitalize() # retorna APENAS a primeira letra da frase como maiúscula\n",
    "print(t)"
   ]
  },
  {
   "cell_type": "code",
   "execution_count": 72,
   "metadata": {},
   "outputs": [
    {
     "name": "stdout",
     "output_type": "stream",
     "text": [
      "A data e hora atual é 2024-04-16 22:43:26.620639\n",
      "A data e hora atual é 16/04/2024\n"
     ]
    }
   ],
   "source": [
    "from datetime import datetime\n",
    "\n",
    "print(f'A data e hora atual é {datetime.now()}') # esse \"f\" significa \"format\"\n",
    "print(f'A data e hora atual é {datetime.today().strftime(\"%d/%m/%Y\")}') # srtftime() transforma em string no formato indicado."
   ]
  },
  {
   "cell_type": "code",
   "execution_count": null,
   "metadata": {},
   "outputs": [],
   "source": [
    "a = 4\n",
    "b = 3\n",
    "\n",
    "print('A divisão de {} por {} é igual a {:.3f}'.format(a, b, a/b)) # \":.3f: indica quantas casas decimais\""
   ]
  },
  {
   "cell_type": "code",
   "execution_count": null,
   "metadata": {},
   "outputs": [],
   "source": [
    "# Manipulação de números\n",
    "\n",
    "print(int(9.8765)) # exige apenas a parte inteira\n",
    "\n",
    "print(round(9.8765)) # arredonda o número retirando as casas decimais\n",
    "\n",
    "print(round(9.8765, 2)) # arredonda definindo a quantidade de casas decimais"
   ]
  },
  {
   "cell_type": "code",
   "execution_count": 70,
   "metadata": {},
   "outputs": [
    {
     "name": "stdout",
     "output_type": "stream",
     "text": [
      "O resultado da conta é 5.551115123125783e-17.\n",
      "O resultado da conta agora é 0.0.\n"
     ]
    }
   ],
   "source": [
    "# Biblioteca para manipulação de números decimais\n",
    "\n",
    "from decimal import *\n",
    "\n",
    "d = 0.1\n",
    "e = 0.3\n",
    "f = d + d + d - e\n",
    "print(f'O resultado da conta é {f}.') # é um número muito pequeno, quase zero, mas não é zero.\n",
    "\n",
    "d = Decimal('0.1')\n",
    "e = Decimal('0.3')\n",
    "f = d + d + d - e\n",
    "print(f'O resultado da conta agora é {f}.') # Agora retorna o valor de ZERO"
   ]
  }
 ],
 "metadata": {
  "kernelspec": {
   "display_name": "Python 3",
   "language": "python",
   "name": "python3"
  },
  "language_info": {
   "codemirror_mode": {
    "name": "ipython",
    "version": 3
   },
   "file_extension": ".py",
   "mimetype": "text/x-python",
   "name": "python",
   "nbconvert_exporter": "python",
   "pygments_lexer": "ipython3",
   "version": "3.12.3"
  }
 },
 "nbformat": 4,
 "nbformat_minor": 2
}
