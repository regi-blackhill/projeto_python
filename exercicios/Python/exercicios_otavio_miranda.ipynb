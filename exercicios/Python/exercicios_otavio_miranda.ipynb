{
 "cells": [
  {
   "cell_type": "code",
   "execution_count": null,
   "metadata": {},
   "outputs": [],
   "source": [
    "# comentário de 1 linha\n",
    "\n",
    "\"\"\"\n",
    "DocString\n",
    "Isso não é um comentário, mas é usado como se fosse.\n",
    "\n",
    "Permite pular linhas e adicionar notas.\n",
    "\"\"\" "
   ]
  },
  {
   "cell_type": "code",
   "execution_count": null,
   "metadata": {},
   "outputs": [],
   "source": [
    "# função print(argumento)\n",
    "\n",
    "print(12, 34) # por padrão, o separador é o espaço\n",
    "print(56, 78) # por padrão, adiciona uma quebra de linha.       "
   ]
  },
  {
   "cell_type": "code",
   "execution_count": null,
   "metadata": {},
   "outputs": [],
   "source": [
    "# sep=' ' adiciona um separador\n",
    "print(12, 34, sep='-')\n",
    "print(56, 78, sep=' & ')"
   ]
  },
  {
   "cell_type": "code",
   "execution_count": null,
   "metadata": {},
   "outputs": [],
   "source": [
    "# CRLF (Carriage Return Line Feed) \\r\\n\n",
    "# versões mais recentes do Windows entende apenas o \\n para quebra de linha\n",
    "\n",
    "# end=' ' adiciona uma instrução no fim do print\n",
    "# por padrão é end='\\r\\n'\n",
    "print(12, 34, sep='-', end='#') # substituiu a quebra de linha por #\n",
    "print(56, 78, sep='-', end='\\n')\n",
    "print(9, 10, end='\\n#\\n#')"
   ]
  },
  {
   "cell_type": "code",
   "execution_count": null,
   "metadata": {},
   "outputs": [],
   "source": [
    "# Aula 3\n",
    "\n",
    "# r usado para expressões regulares, mas permite visualizar o caracter de escape\n",
    "print(r\"Reggie \\\"Blackhill\\\"\", end='\\n\\n')\n",
    "\n",
    "# melhor prática: se quiser exibir aspas duplas, inserir dentro de aspas simples e vice-versa\n",
    "print('Aspas \"duplas\" exibidas')\n",
    "print(\"Aspas 'simples' exibidas\")"
   ]
  }
 ],
 "metadata": {
  "kernelspec": {
   "display_name": "Python 3",
   "language": "python",
   "name": "python3"
  },
  "language_info": {
   "codemirror_mode": {
    "name": "ipython",
    "version": 3
   },
   "file_extension": ".py",
   "mimetype": "text/x-python",
   "name": "python",
   "nbconvert_exporter": "python",
   "pygments_lexer": "ipython3",
   "version": "3.12.3"
  }
 },
 "nbformat": 4,
 "nbformat_minor": 2
}
