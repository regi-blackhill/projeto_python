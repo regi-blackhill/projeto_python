{
 "cells": [
  {
   "cell_type": "markdown",
   "id": "7694b96e-5853-4e28-9938-4bbc8f5edc5b",
   "metadata": {},
   "source": [
    "### Biblioteca Pandas (Introdução)\n",
    "- Principais comandos"
   ]
  },
  {
   "cell_type": "markdown",
   "id": "f789baa1",
   "metadata": {},
   "source": [
    "#### Importanto o pandas"
   ]
  },
  {
   "cell_type": "code",
   "execution_count": null,
   "id": "b2bea776",
   "metadata": {},
   "outputs": [],
   "source": [
    "import pandas as pd"
   ]
  },
  {
   "cell_type": "markdown",
   "id": "68661b71",
   "metadata": {},
   "source": [
    "#### 3 métodos para criação de um dataframe"
   ]
  },
  {
   "cell_type": "markdown",
   "id": "abef7d01",
   "metadata": {},
   "source": [
    "1º método: Criar um dataframe vazio"
   ]
  },
  {
   "cell_type": "code",
   "execution_count": null,
   "id": "c71d4f1d",
   "metadata": {},
   "outputs": [],
   "source": [
    "# dataframe = pd.DataFrame()"
   ]
  },
  {
   "cell_type": "markdown",
   "id": "1a998029",
   "metadata": {},
   "source": [
    "2º método: Cria um dataframe a partir de um dicionário."
   ]
  },
  {
   "cell_type": "code",
   "execution_count": null,
   "id": "db66db36",
   "metadata": {},
   "outputs": [],
   "source": [
    "venda = {'data': ['15/02/2021', '16/02/2021'],\n",
    "         'valor': [500, 300],\n",
    "         'produto': ['feijão', 'arroz'],\n",
    "         'qtde': [50,70],\n",
    "         }\n",
    "vendas_df = pd.DataFrame(venda)"
   ]
  },
  {
   "cell_type": "markdown",
   "id": "da0a2def",
   "metadata": {},
   "source": [
    "Visualização de Dados:\n",
    "- print()\n",
    "- display()"
   ]
  },
  {
   "cell_type": "code",
   "execution_count": null,
   "id": "71f6957f",
   "metadata": {},
   "outputs": [],
   "source": [
    "print(vendas_df)"
   ]
  },
  {
   "cell_type": "code",
   "execution_count": null,
   "id": "ec8c93b6",
   "metadata": {},
   "outputs": [],
   "source": [
    "display(vendas_df)"
   ]
  },
  {
   "cell_type": "markdown",
   "id": "81efaaf3",
   "metadata": {},
   "source": [
    "3º método: Importação de uma base dados"
   ]
  },
  {
   "cell_type": "code",
   "execution_count": null,
   "id": "6caf2711",
   "metadata": {},
   "outputs": [],
   "source": [
    "vendas_df = pd.read_excel('base/Vendas.xlsx')\n",
    "display(vendas_df)"
   ]
  },
  {
   "cell_type": "markdown",
   "id": "cda75eb2",
   "metadata": {},
   "source": [
    "#### Visualização de dados simples e úteis\n",
    "- head()\n",
    "- shape\n",
    "- describe()"
   ]
  },
  {
   "cell_type": "code",
   "execution_count": null,
   "id": "47e05eb1",
   "metadata": {},
   "outputs": [],
   "source": [
    "display(vendas_df.head())\n",
    "# entre parênteses vai o número de linhas a ser visualizado."
   ]
  },
  {
   "cell_type": "code",
   "execution_count": null,
   "id": "17f10c86",
   "metadata": {},
   "outputs": [],
   "source": [
    "print(vendas_df.shape)\n",
    "# Método mais leve e rápido "
   ]
  },
  {
   "cell_type": "code",
   "execution_count": null,
   "id": "bf8bd959",
   "metadata": {},
   "outputs": [],
   "source": [
    "display(vendas_df.describe())"
   ]
  },
  {
   "cell_type": "markdown",
   "id": "d2869209",
   "metadata": {},
   "source": [
    "#### Pegar 1 coluna (e os pd.Series)\n",
    "Data frame é uma tabela no pandas em que cada coluna ou linha é uma Serie."
   ]
  },
  {
   "cell_type": "code",
   "execution_count": 10,
   "id": "23bd37e1",
   "metadata": {},
   "outputs": [
    {
     "data": {
      "text/plain": [
       "0           Sapato Estampa\n",
       "1                 Camiseta\n",
       "2            Sapato Xadrez\n",
       "3                  Relógio\n",
       "4             Chinelo Liso\n",
       "               ...        \n",
       "93905       Mochila Xadrez\n",
       "93906    Pulseira Listrado\n",
       "93907       Cueca Listrado\n",
       "93908       Pulseira Linho\n",
       "93909        Casaco Xadrez\n",
       "Name: Produto, Length: 93910, dtype: object"
      ]
     },
     "metadata": {},
     "output_type": "display_data"
    }
   ],
   "source": [
    "produtos = vendas_df['Produto']\n",
    "display(produtos)"
   ]
  }
 ],
 "metadata": {
  "kernelspec": {
   "display_name": "Python 3 (ipykernel)",
   "language": "python",
   "name": "python3"
  },
  "language_info": {
   "codemirror_mode": {
    "name": "ipython",
    "version": 3
   },
   "file_extension": ".py",
   "mimetype": "text/x-python",
   "name": "python",
   "nbconvert_exporter": "python",
   "pygments_lexer": "ipython3",
   "version": "3.12.3"
  }
 },
 "nbformat": 4,
 "nbformat_minor": 5
}
